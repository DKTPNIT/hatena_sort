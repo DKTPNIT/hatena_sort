{
 "cells": [
  {
   "cell_type": "code",
   "execution_count": 1,
   "metadata": {},
   "outputs": [
    {
     "data": {
      "text/plain": [
       "3628800"
      ]
     },
     "execution_count": 1,
     "metadata": {},
     "output_type": "execute_result"
    }
   ],
   "source": [
    "###再帰関数###\n",
    "\n",
    "#n!を求める再帰関数\n",
    "def factorial(n):\n",
    "    if n == 0:\n",
    "         return 1\n",
    "    else:\n",
    "        return n*factorial(n-1)\n",
    "    \n",
    "factorial(10)"
   ]
  },
  {
   "cell_type": "code",
   "execution_count": 2,
   "metadata": {},
   "outputs": [
    {
     "data": {
      "text/plain": [
       "21"
      ]
     },
     "execution_count": 2,
     "metadata": {},
     "output_type": "execute_result"
    }
   ],
   "source": [
    "#ユークリッドのの互除法(再帰)\n",
    "def gcd(m, n):\n",
    "    if n == 0:\n",
    "        return m\n",
    "    return gcd(n ,m % n)\n",
    "\n",
    "gcd(1071, 1029)"
   ]
  },
  {
   "cell_type": "code",
   "execution_count": 3,
   "metadata": {},
   "outputs": [
    {
     "name": "stdout",
     "output_type": "stream",
     "text": [
      "0: [10, 28, 3, 81, 2, 27, 7, 1]\n",
      "1: [1, 28, 3, 81, 2, 27, 7, 10]\n",
      "2: [1, 2, 3, 81, 28, 27, 7, 10]\n",
      "3: [1, 2, 3, 81, 28, 27, 7, 10]\n",
      "4: [1, 2, 3, 7, 28, 27, 81, 10]\n",
      "5: [1, 2, 3, 7, 10, 27, 81, 28]\n",
      "6: [1, 2, 3, 7, 10, 27, 81, 28]\n",
      "7: [1, 2, 3, 7, 10, 27, 28, 81]\n"
     ]
    },
    {
     "data": {
      "text/plain": [
       "[1, 2, 3, 7, 10, 27, 28, 81]"
      ]
     },
     "execution_count": 3,
     "metadata": {},
     "output_type": "execute_result"
    }
   ],
   "source": [
    "###ここからソートの話###\n",
    "input_list = [10, 28, 3, 81, 2, 27, 7, 1]\n",
    "\n",
    "#選択法 O(n^2) = n + (n-1) + (n-2) + (n-3) + ... = n(n+1)/2\n",
    "def selection_sort(arr):\n",
    "    for i in range(len(arr)):\n",
    "        min_index = len(arr)-1\n",
    "        print(\"{0}: {1}\".format(i, arr)) #経過を見てみる\n",
    "        for j in range(i, len(arr)):\n",
    "            if arr[min_index] > arr[j]:\n",
    "                min_index = j\n",
    "        tmp = arr[i]\n",
    "        arr[i] = arr[min_index]\n",
    "        arr[min_index] = tmp\n",
    "    return arr\n",
    "\n",
    "selection_sort(input_list)"
   ]
  },
  {
   "cell_type": "code",
   "execution_count": 4,
   "metadata": {},
   "outputs": [
    {
     "name": "stdout",
     "output_type": "stream",
     "text": [
      "0: [10, 28, 3, 81, 2, 27, 7, 1]\n",
      "1: [10, 3, 28, 2, 27, 7, 1, 81]\n",
      "2: [3, 10, 2, 27, 7, 1, 28, 81]\n",
      "3: [3, 2, 10, 7, 1, 27, 28, 81]\n",
      "4: [2, 3, 7, 1, 10, 27, 28, 81]\n",
      "5: [2, 3, 1, 7, 10, 27, 28, 81]\n",
      "6: [2, 1, 3, 7, 10, 27, 28, 81]\n",
      "7: [1, 2, 3, 7, 10, 27, 28, 81]\n"
     ]
    },
    {
     "data": {
      "text/plain": [
       "[1, 2, 3, 7, 10, 27, 28, 81]"
      ]
     },
     "execution_count": 4,
     "metadata": {},
     "output_type": "execute_result"
    }
   ],
   "source": [
    "#バブルソート O(n^2)\n",
    "input_list = [10, 28, 3, 81, 2, 27, 7, 1]\n",
    "\n",
    "def bubble_sort(arr):\n",
    "    min_index = len(arr)\n",
    "    for i in range(len(arr)):\n",
    "        print(\"{0}: {1}\".format(i, arr)) #経過を見てみる\n",
    "        for j in range(0, len(arr)-i-1):\n",
    "            if arr[j] > arr[j+1]:\n",
    "                tmp = arr[j]\n",
    "                arr[j] = arr[j+1]\n",
    "                arr[j+1] = tmp\n",
    "    return arr\n",
    "\n",
    "bubble_sort(input_list)"
   ]
  },
  {
   "cell_type": "code",
   "execution_count": 5,
   "metadata": {},
   "outputs": [
    {
     "name": "stdout",
     "output_type": "stream",
     "text": [
      "a: [10], b: [28]\n",
      "a: [3], b: [81]\n",
      "a: [10, 28], b: [3, 81]\n",
      "a: [2], b: [27]\n",
      "a: [7], b: [1]\n",
      "a: [2, 27], b: [1, 7]\n",
      "a: [3, 10, 28, 81], b: [1, 2, 7, 27]\n"
     ]
    },
    {
     "data": {
      "text/plain": [
       "[1, 2, 3, 7, 10, 27, 28, 81]"
      ]
     },
     "execution_count": 5,
     "metadata": {},
     "output_type": "execute_result"
    }
   ],
   "source": [
    "#マージソート O(nlog(n)) 追加の配列を用意しないバージョン\n",
    "input_list = [10, 28, 3, 81, 2, 27, 7, 1]\n",
    "\n",
    "#分割された配列aとbをソートして統合する\n",
    "def merge(a, b, m):\n",
    "    i = 0\n",
    "    j = 0\n",
    "    \n",
    "    print(\"a: {0}, b: {1}\".format(a,b))#途中経過\n",
    "    while(i < len(a) or j < len(b)):\n",
    "        #out of indexエラーに対処した条件分岐\n",
    "        if j == len(b) or (i < len(a) and a[i] < b[j]):\n",
    "            m[i+j] = a[i]\n",
    "            i += 1\n",
    "        else:\n",
    "            m[i+j] = b[j]\n",
    "            j += 1\n",
    "    return m\n",
    "\n",
    "def merge_sort(arr):\n",
    "    if len(arr) > 1:\n",
    "        h = int((len(arr))/2)\n",
    "        a = arr[:h]\n",
    "        b = arr[h:]\n",
    "        merge_sort(a)\n",
    "        merge_sort(b)\n",
    "        merge(a, b, arr)\n",
    "    return arr\n",
    "\n",
    "merge_sort(input_list)"
   ]
  },
  {
   "cell_type": "code",
   "execution_count": 6,
   "metadata": {},
   "outputs": [
    {
     "name": "stdout",
     "output_type": "stream",
     "text": [
      "l: 0, r:7, pivot: 10 array: [1, 7, 3, 2, 81, 27, 28, 10]\n",
      "l: 0, r:3, pivot: 2 array: [1, 2, 3, 7, 81, 27, 28, 10]\n",
      "l: 0, r:1, pivot: 1 array: [1, 2, 3, 7, 81, 27, 28, 10]\n",
      "l: 2, r:3, pivot: 3 array: [1, 2, 3, 7, 81, 27, 28, 10]\n",
      "l: 4, r:7, pivot: 27 array: [1, 2, 3, 7, 10, 27, 28, 81]\n",
      "l: 6, r:7, pivot: 28 array: [1, 2, 3, 7, 10, 27, 28, 81]\n"
     ]
    },
    {
     "data": {
      "text/plain": [
       "[1, 2, 3, 7, 10, 27, 28, 81]"
      ]
     },
     "execution_count": 6,
     "metadata": {},
     "output_type": "execute_result"
    }
   ],
   "source": [
    "#クイックソート  O(nlog(n))\n",
    "input_list = [10, 28, 3, 81, 2, 27, 7, 1]\n",
    "\n",
    "#中央値の算出\n",
    "def med(a,b,c):\n",
    "    if a > b:\n",
    "        if b > c:\n",
    "            return b\n",
    "        elif c > a:\n",
    "            return a\n",
    "        else:\n",
    "            return c\n",
    "    else:\n",
    "        if a > c:\n",
    "            return a\n",
    "        elif c > b:\n",
    "            return b\n",
    "        else:\n",
    "            return c     \n",
    "    return a\n",
    "\n",
    "def quick_sort(arr, l, r):\n",
    "    if(l < r):\n",
    "        i = l\n",
    "        j = r\n",
    "        #ピボットは配列の先頭、真ん中、末尾、の中央値とする\n",
    "        pivot = med(arr[l], arr[l+int((r-l)/2)], arr[r])\n",
    "        #左側と右側からピボットの値を基準にソート\n",
    "        while True:\n",
    "            while pivot > arr[i]:\n",
    "                i += 1\n",
    "            while pivot < arr[j]:\n",
    "                j -= 1\n",
    "            if i >= j:\n",
    "                break\n",
    "            #arr[i]とarr[j]の交換\n",
    "            tmp = arr[i]\n",
    "            arr[i] = arr[j]\n",
    "            arr[j] = tmp\n",
    "            i += 1\n",
    "            j -= 1\n",
    "            \n",
    "        print(\"l: {0}, r:{1}, pivot: {2} array: {3}\".format(l, r, pivot, arr)) #途中経過\n",
    "        quick_sort(arr, l, i-1)\n",
    "        quick_sort(arr, j+1, r)      \n",
    "    return arr\n",
    "\n",
    "quick_sort(input_list, 0, len(input_list)-1)"
   ]
  },
  {
   "cell_type": "code",
   "execution_count": 7,
   "metadata": {
    "scrolled": false
   },
   "outputs": [
    {
     "name": "stdout",
     "output_type": "stream",
     "text": [
      "ヒープ構成後: [81, 28, 27, 10, 2, 3, 7, 1]\n",
      "[28, 10, 27, 1, 2, 3, 7, 81]\n",
      "[27, 10, 7, 1, 2, 3, 28, 81]\n",
      "[10, 3, 7, 1, 2, 27, 28, 81]\n",
      "[7, 3, 2, 1, 10, 27, 28, 81]\n",
      "[3, 1, 2, 7, 10, 27, 28, 81]\n",
      "[2, 1, 3, 7, 10, 27, 28, 81]\n",
      "[1, 2, 3, 7, 10, 27, 28, 81]\n"
     ]
    },
    {
     "data": {
      "text/plain": [
       "[1, 2, 3, 7, 10, 27, 28, 81]"
      ]
     },
     "execution_count": 7,
     "metadata": {},
     "output_type": "execute_result"
    }
   ],
   "source": [
    "#ヒープソート O(nlog(n))\n",
    "input_list = [10, 28, 3, 81, 2, 27, 7, 1]\n",
    "\n",
    "def upheap(arr, n):\n",
    "    while n > 0:\n",
    "        m = int(((n) + 1) / 2) - 1\n",
    "        if arr[m] < arr[n]:\n",
    "            arr[m], arr[n] = arr[n], arr[m]\n",
    "            n = m\n",
    "        else:\n",
    "            break\n",
    "    return\n",
    "\n",
    "def downheap(arr, n):\n",
    "    if n == 0: \n",
    "        return\n",
    "    m = 0\n",
    "    while True:\n",
    "        c = 2*m + 1 \n",
    "        if c > n:\n",
    "            break\n",
    "        if c < n and arr[c+1] > arr[c]:\n",
    "            c += 1\n",
    "        if arr[m] < arr[c]:\n",
    "            arr[m], arr[c] = arr[c], arr[m]\n",
    "            m = c\n",
    "        else:\n",
    "            break\n",
    "    return\n",
    "\n",
    "def heap_sort(arr):\n",
    "    i = 0\n",
    "    n = len(arr)\n",
    "    \n",
    "    while i < n:\n",
    "        #0~iまでヒープを構成\n",
    "        upheap(arr, i)\n",
    "        i += 1\n",
    "    print(\"ヒープ構成後: {0}\".format(arr))\n",
    "    \n",
    "    while i > 1:\n",
    "        i -= 1\n",
    "        arr[0], arr[i] = arr[i], arr[0]\n",
    "        downheap(arr, i-1)\n",
    "        print(\"{0}\".format(arr)) #途中経過\n",
    "    return arr\n",
    "\n",
    "heap_sort(input_list)"
   ]
  }
 ],
 "metadata": {
  "kernelspec": {
   "display_name": "Python 3",
   "language": "python",
   "name": "python3"
  },
  "language_info": {
   "codemirror_mode": {
    "name": "ipython",
    "version": 3
   },
   "file_extension": ".py",
   "mimetype": "text/x-python",
   "name": "python",
   "nbconvert_exporter": "python",
   "pygments_lexer": "ipython3",
   "version": "3.7.4"
  }
 },
 "nbformat": 4,
 "nbformat_minor": 2
}
